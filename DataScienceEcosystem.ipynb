{
 "cells": [
  {
   "cell_type": "markdown",
   "id": "4fb185df-3d9b-4d77-94d1-5ec382082a07",
   "metadata": {},
   "source": [
    "# Data Science Tools and Ecosystem"
   ]
  },
  {
   "cell_type": "markdown",
   "id": "706d49a5-8be1-43eb-85ec-33d96babf9a0",
   "metadata": {},
   "source": [
    "#### In this notebook, Data Science Tools and Ecosystem are summarized"
   ]
  },
  {
   "cell_type": "markdown",
   "id": "088bcdb9-0c79-4418-aab6-a7d79bce72b3",
   "metadata": {},
   "source": [
    "\n",
    "Some of the popular languages that Data Scientists use are:\n",
    "\n",
    "1. Python\n",
    "2. R\n",
    "3. JavaScript\n",
    "4. Julia"
   ]
  },
  {
   "cell_type": "markdown",
   "id": "b17a4bcd-1b9f-46d1-ba0d-586384784302",
   "metadata": {},
   "source": [
    "Some of the commonly used libraries used by Data Scientists include:\n",
    "1. pandas\n",
    "2. numpy\n",
    "3. gglplot"
   ]
  },
  {
   "cell_type": "markdown",
   "id": "48f303e6-6018-4315-a9ed-d62037cd507f",
   "metadata": {},
   "source": [
    "| Data Science Tools |\n",
    " -------------------\n",
    "| Jupyter Notebooks |\n",
    "| RStudio |\n",
    "| Apache Sparks |"
   ]
  },
  {
   "cell_type": "markdown",
   "id": "9d2785f8-f955-4824-bef5-7ba47f6198c2",
   "metadata": {},
   "source": [
    "### Below are a few examples of evaluating arithmetic expressions in Python"
   ]
  },
  {
   "cell_type": "code",
   "execution_count": 3,
   "id": "771bc77b-98f4-4a7e-9be2-a0e4cfa947ca",
   "metadata": {},
   "outputs": [
    {
     "data": {
      "text/plain": [
       "17"
      ]
     },
     "execution_count": 3,
     "metadata": {},
     "output_type": "execute_result"
    }
   ],
   "source": [
    "# This a simple arithmetic expression to mutiply then add integers\n",
    "\n",
    "(3*4)+5"
   ]
  },
  {
   "cell_type": "code",
   "execution_count": 4,
   "id": "1dfae92c-f9bb-4923-b8b3-8d874ef6189b",
   "metadata": {},
   "outputs": [
    {
     "data": {
      "text/plain": [
       "3.3333333333333335"
      ]
     },
     "execution_count": 4,
     "metadata": {},
     "output_type": "execute_result"
    }
   ],
   "source": [
    "# This will convert 200 minutes to hours by diving by 60\n",
    "\n",
    "200 / 60"
   ]
  },
  {
   "cell_type": "markdown",
   "id": "6dd85a71-4850-4462-a2f5-3bd747a3a66b",
   "metadata": {},
   "source": [
    "**Ojectives:** \n",
    " \n",
    " - List Popular languages for Data Science\n",
    " - List Popular Libraries for Data Science\n",
    " - List popular databases"
   ]
  },
  {
   "cell_type": "markdown",
   "id": "76db7258-3098-4370-b1e4-de4bc76be8b6",
   "metadata": {},
   "source": [
    "## Author\n",
    "\n",
    "Javier Vazquez"
   ]
  }
 ],
 "metadata": {
  "kernelspec": {
   "display_name": "Python 3 (ipykernel)",
   "language": "python",
   "name": "python3"
  },
  "language_info": {
   "codemirror_mode": {
    "name": "ipython",
    "version": 3
   },
   "file_extension": ".py",
   "mimetype": "text/x-python",
   "name": "python",
   "nbconvert_exporter": "python",
   "pygments_lexer": "ipython3",
   "version": "3.10.9"
  }
 },
 "nbformat": 4,
 "nbformat_minor": 5
}
